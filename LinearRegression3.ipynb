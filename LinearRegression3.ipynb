{
 "cells": [
  {
   "cell_type": "code",
   "execution_count": 16,
   "metadata": {},
   "outputs": [],
   "source": [
    "#Univariate\n",
    "#Using sklearn with own data\n",
    "#np.array used as an input\n",
    "from sklearn import linear_model\n",
    "import numpy as np\n",
    "import pandas as pd\n",
    "import seaborn as sns\n",
    "import matplotlib.pyplot as plt"
   ]
  },
  {
   "cell_type": "code",
   "execution_count": 17,
   "metadata": {},
   "outputs": [],
   "source": [
    "x=np.array([1,2,3,4,5,6,7,8,9,10])\n",
    "x=x.reshape(-1,1)\n",
    "y=np.array([1,4,9,16,25,36,49,64,81,100])\n",
    "y=y.reshape(-1,1)"
   ]
  },
  {
   "cell_type": "code",
   "execution_count": 18,
   "metadata": {},
   "outputs": [
    {
     "name": "stdout",
     "output_type": "stream",
     "text": [
      "X TRAINING\n",
      "[[ 1]\n",
      " [ 2]\n",
      " [ 3]\n",
      " [ 4]\n",
      " [ 5]\n",
      " [ 6]\n",
      " [ 7]\n",
      " [ 8]\n",
      " [ 9]\n",
      " [10]]\n",
      "X TESTING\n",
      "[[ 1]\n",
      " [ 2]\n",
      " [ 3]\n",
      " [ 4]\n",
      " [ 5]\n",
      " [ 6]\n",
      " [ 7]\n",
      " [ 8]\n",
      " [ 9]\n",
      " [10]]\n",
      "Y TRAINING\n",
      "[[  1]\n",
      " [  4]\n",
      " [  9]\n",
      " [ 16]\n",
      " [ 25]\n",
      " [ 36]\n",
      " [ 49]\n",
      " [ 64]\n",
      " [ 81]\n",
      " [100]]\n",
      "Y TESTING\n",
      "[[  1]\n",
      " [  4]\n",
      " [  9]\n",
      " [ 16]\n",
      " [ 25]\n",
      " [ 36]\n",
      " [ 49]\n",
      " [ 64]\n",
      " [ 81]\n",
      " [100]]\n"
     ]
    }
   ],
   "source": [
    "# xtrain=x[0:-2]\n",
    "# xtest=x[-2:]\n",
    "# ytrain=y[0:-2]\n",
    "# ytest=y[-2:]\n",
    "xtrain=x\n",
    "xtest=x\n",
    "ytrain=y\n",
    "ytest=y\n",
    "print(\"X TRAINING\")\n",
    "print(xtrain)\n",
    "print(\"X TESTING\")\n",
    "print(xtest)\n",
    "print(\"Y TRAINING\")\n",
    "print(ytrain)\n",
    "print(\"Y TESTING\")\n",
    "print(ytest)"
   ]
  },
  {
   "cell_type": "code",
   "execution_count": 27,
   "metadata": {},
   "outputs": [
    {
     "name": "stdout",
     "output_type": "stream",
     "text": [
      "\n",
      "   RESULT OF LINEAR REGRESSION PREDICTION : \n",
      "\n",
      "Predicted : \n",
      " [[-1.10000000e+01]\n",
      " [ 1.42108547e-14]\n",
      " [ 1.10000000e+01]\n",
      " [ 2.20000000e+01]\n",
      " [ 3.30000000e+01]\n",
      " [ 4.40000000e+01]\n",
      " [ 5.50000000e+01]\n",
      " [ 6.60000000e+01]\n",
      " [ 7.70000000e+01]\n",
      " [ 8.80000000e+01]]\n"
     ]
    },
    {
     "data": {
      "text/plain": [
       "52.799999999999955"
      ]
     },
     "execution_count": 27,
     "metadata": {},
     "output_type": "execute_result"
    }
   ],
   "source": [
    "# Fitting Multi Linear regression model to training model \n",
    "from sklearn.linear_model import LinearRegression \n",
    "regressor = LinearRegression() \n",
    "regressor.fit(xtrain, ytrain) \n",
    "   \n",
    "# predicting the test set results \n",
    "y_pred = regressor.predict(xtest) \n",
    "y_pred = y_pred.reshape(-1,1) \n",
    "print(\"\\n   RESULT OF LINEAR REGRESSION PREDICTION : \") \n",
    "print (\"\\nPredicted : \\n\", y_pred[:, :]) \n",
    "error_sq=(y-y_pred)**2\n",
    "mse=error_sq.mean()\n",
    "mse"
   ]
  },
  {
   "cell_type": "code",
   "execution_count": null,
   "metadata": {},
   "outputs": [],
   "source": []
  }
 ],
 "metadata": {
  "kernelspec": {
   "display_name": "Python 3",
   "language": "python",
   "name": "python3"
  },
  "language_info": {
   "codemirror_mode": {
    "name": "ipython",
    "version": 3
   },
   "file_extension": ".py",
   "mimetype": "text/x-python",
   "name": "python",
   "nbconvert_exporter": "python",
   "pygments_lexer": "ipython3",
   "version": "3.7.3"
  }
 },
 "nbformat": 4,
 "nbformat_minor": 2
}
