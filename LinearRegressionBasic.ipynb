{
 "cells": [
  {
   "cell_type": "code",
   "execution_count": 2,
   "metadata": {},
   "outputs": [],
   "source": [
    "#Univaritate via OLS\n",
    "import numpy as np\n",
    "import matplotlib.pyplot as plt\n",
    "import seaborn as sns\n",
    "import pandas as pd"
   ]
  },
  {
   "cell_type": "code",
   "execution_count": 11,
   "metadata": {},
   "outputs": [],
   "source": [
    "x=np.array([1,2,3,4,5])\n",
    "y=np.array([3,3,7,8,11])\n",
    "# x=np.array([1,2,3,4,5,6,7,8,9,10])\n",
    "# y=np.array([1,4,9,16,25,36,49,64,81,100])"
   ]
  },
  {
   "cell_type": "code",
   "execution_count": 12,
   "metadata": {},
   "outputs": [],
   "source": [
    "x_mean=x.mean()\n",
    "y_mean=y.mean()\n",
    "xy=x*y\n",
    "xy_mean=xy.mean()\n",
    "x_sq=x**2\n",
    "x_sq_mean=x_sq.mean()"
   ]
  },
  {
   "cell_type": "code",
   "execution_count": 13,
   "metadata": {},
   "outputs": [],
   "source": [
    "m=((x_mean*y_mean)-xy_mean)/((x_mean**2)-(x_sq_mean))\n",
    "b=y_mean-(m*x_mean)"
   ]
  },
  {
   "cell_type": "code",
   "execution_count": 14,
   "metadata": {},
   "outputs": [
    {
     "name": "stdout",
     "output_type": "stream",
     "text": [
      "m= 2.099999999999998\n",
      "b= 0.10000000000000675\n"
     ]
    }
   ],
   "source": [
    "print(\"m=\",m)\n",
    "print(\"b=\",b)"
   ]
  },
  {
   "cell_type": "code",
   "execution_count": 15,
   "metadata": {},
   "outputs": [
    {
     "data": {
      "text/plain": [
       "array([ 2.2,  4.3,  6.4,  8.5, 10.6])"
      ]
     },
     "execution_count": 15,
     "metadata": {},
     "output_type": "execute_result"
    }
   ],
   "source": [
    "y_pred=m*x+b\n",
    "y_pred"
   ]
  },
  {
   "cell_type": "code",
   "execution_count": 16,
   "metadata": {},
   "outputs": [
    {
     "data": {
      "text/plain": [
       "array([0.64, 1.69, 0.36, 0.25, 0.16])"
      ]
     },
     "execution_count": 16,
     "metadata": {},
     "output_type": "execute_result"
    }
   ],
   "source": [
    "error_sq=(y-y_pred)**2\n",
    "error_sq"
   ]
  },
  {
   "cell_type": "code",
   "execution_count": 17,
   "metadata": {},
   "outputs": [
    {
     "data": {
      "text/plain": [
       "3.1"
      ]
     },
     "execution_count": 17,
     "metadata": {},
     "output_type": "execute_result"
    }
   ],
   "source": [
    "sum_error=error_sq.sum()\n",
    "sum_error"
   ]
  },
  {
   "cell_type": "code",
   "execution_count": 18,
   "metadata": {},
   "outputs": [
    {
     "name": "stdout",
     "output_type": "stream",
     "text": [
      "   x   y\n",
      "0  1   3\n",
      "1  2   3\n",
      "2  3   7\n",
      "3  4   8\n",
      "4  5  11\n",
      "   x     y\n",
      "0  1   2.2\n",
      "1  2   4.3\n",
      "2  3   6.4\n",
      "3  4   8.5\n",
      "4  5  10.6\n",
      "MEAN SQUARED ERROR 0.62\n"
     ]
    },
    {
     "data": {
      "image/png": "[encoded data removed]",
      "text/plain": [
       "<Figure size 432x288 with 1 Axes>"
      ]
     },
     "metadata": {
      "needs_background": "light"
     },
     "output_type": "display_data"
    }
   ],
   "source": [
    "#Dataframe\n",
    "d_train=pd.DataFrame({'x':x,'y':y})\n",
    "d_pred=pd.DataFrame({'x':x,'y':y_pred})\n",
    "sns.lineplot(x='x',y='y',data=d_train,label='Training')\n",
    "sns.lineplot(x='x',y='y',data=d_pred,label='predicted')\n",
    "# plt.scatter(x,y)\n",
    "# plt.plot(x,y_pred)\n",
    "print(d_train)\n",
    "print(d_pred)\n",
    "sq=(y-y_pred)**2\n",
    "mse=sq.mean()\n",
    "print(\"MEAN SQUARED ERROR\",mse)"
   ]
  },
  {
   "cell_type": "code",
   "execution_count": 13,
   "metadata": {},
   "outputs": [
    {
     "data": {
      "text/plain": [
       "array([12.,  4., -2., -6., -8., -8., -6., -2.,  4., 12.])"
      ]
     },
     "execution_count": 13,
     "metadata": {},
     "output_type": "execute_result"
    }
   ],
   "source": [
    "res=y-y_pred\n",
    "res"
   ]
  },
  {
   "cell_type": "code",
   "execution_count": null,
   "metadata": {},
   "outputs": [],
   "source": []
  }
 ],
 "metadata": {
  "kernelspec": {
   "display_name": "Python 3",
   "language": "python",
   "name": "python3"
  },
  "language_info": {
   "codemirror_mode": {
    "name": "ipython",
    "version": 3
   },
   "file_extension": ".py",
   "mimetype": "text/x-python",
   "name": "python",
   "nbconvert_exporter": "python",
   "pygments_lexer": "ipython3",
   "version": "3.7.3"
  }
 },
 "nbformat": 4,
 "nbformat_minor": 2
}
