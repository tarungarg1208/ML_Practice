{
 "cells": [
  {
   "cell_type": "markdown",
   "metadata": {},
   "source": [
    "### BINARY LOGISTIC REGRESSION FROM SCRATCH AND FROM SCIKIT LEARN"
   ]
  },
  {
   "cell_type": "code",
   "execution_count": 240,
   "metadata": {},
   "outputs": [],
   "source": [
    "import numpy as np\n",
    "import pandas as pd\n",
    "import matplotlib.pyplot as plt"
   ]
  },
  {
   "cell_type": "markdown",
   "metadata": {},
   "source": [
    "###### LOADING DATASET"
   ]
  },
  {
   "cell_type": "code",
   "execution_count": 241,
   "metadata": {},
   "outputs": [
    {
     "data": {
      "text/html": [
       "<div>\n",
       "<style scoped>\n",
       "    .dataframe tbody tr th:only-of-type {\n",
       "        vertical-align: middle;\n",
       "    }\n",
       "\n",
       "    .dataframe tbody tr th {\n",
       "        vertical-align: top;\n",
       "    }\n",
       "\n",
       "    .dataframe thead th {\n",
       "        text-align: right;\n",
       "    }\n",
       "</style>\n",
       "<table border=\"1\" class=\"dataframe\">\n",
       "  <thead>\n",
       "    <tr style=\"text-align: right;\">\n",
       "      <th></th>\n",
       "      <th>mark1</th>\n",
       "      <th>mark2</th>\n",
       "      <th>target</th>\n",
       "    </tr>\n",
       "  </thead>\n",
       "  <tbody>\n",
       "    <tr>\n",
       "      <th>0</th>\n",
       "      <td>34.623660</td>\n",
       "      <td>78.024693</td>\n",
       "      <td>0</td>\n",
       "    </tr>\n",
       "    <tr>\n",
       "      <th>1</th>\n",
       "      <td>30.286711</td>\n",
       "      <td>43.894998</td>\n",
       "      <td>0</td>\n",
       "    </tr>\n",
       "    <tr>\n",
       "      <th>2</th>\n",
       "      <td>35.847409</td>\n",
       "      <td>72.902198</td>\n",
       "      <td>0</td>\n",
       "    </tr>\n",
       "    <tr>\n",
       "      <th>3</th>\n",
       "      <td>60.182599</td>\n",
       "      <td>86.308552</td>\n",
       "      <td>1</td>\n",
       "    </tr>\n",
       "    <tr>\n",
       "      <th>4</th>\n",
       "      <td>79.032736</td>\n",
       "      <td>75.344376</td>\n",
       "      <td>1</td>\n",
       "    </tr>\n",
       "  </tbody>\n",
       "</table>\n",
       "</div>"
      ],
      "text/plain": [
       "       mark1      mark2  target\n",
       "0  34.623660  78.024693       0\n",
       "1  30.286711  43.894998       0\n",
       "2  35.847409  72.902198       0\n",
       "3  60.182599  86.308552       1\n",
       "4  79.032736  75.344376       1"
      ]
     },
     "execution_count": 241,
     "metadata": {},
     "output_type": "execute_result"
    }
   ],
   "source": [
    "marks_df=pd.read_csv(\"marks.csv\")\n",
    "marks_df.head()"
   ]
  },
  {
   "cell_type": "markdown",
   "metadata": {},
   "source": [
    "###### SPLITTING DATA BETWEEN X & Y, Making List of Admitted and Non-Admitted Students"
   ]
  },
  {
   "cell_type": "code",
   "execution_count": 242,
   "metadata": {},
   "outputs": [],
   "source": [
    "x=marks_df.iloc[:,:-1]\n",
    "y=marks_df.iloc[:,-1]\n",
    "admitted=marks_df[y==1]\n",
    "not_admitted=marks_df[y==0]"
   ]
  },
  {
   "cell_type": "markdown",
   "metadata": {},
   "source": [
    "###### VISUALISING THE DATA"
   ]
  },
  {
   "cell_type": "code",
   "execution_count": 243,
   "metadata": {},
   "outputs": [
    {
     "data": {
      "image/png": "[encoded data removed]",
      "text/plain": [
       "<Figure size 432x288 with 1 Axes>"
      ]
     },
     "metadata": {
      "needs_background": "light"
     },
     "output_type": "display_data"
    }
   ],
   "source": [
    "plt.scatter(admitted.iloc[:,0],admitted.iloc[:,1],label='Admitted',color='green')\n",
    "plt.scatter(not_admitted.iloc[:,0],not_admitted.iloc[:,1],label='Not Admitted',color='red')\n",
    "plt.legend()\n",
    "plt.xlabel(\"MARKS 1\")\n",
    "plt.ylabel(\"MARKS 2\")\n",
    "plt.show()"
   ]
  },
  {
   "cell_type": "markdown",
   "metadata": {},
   "source": [
    "###### PREPROCESSING THE DATA FOR REGRESSION"
   ]
  },
  {
   "cell_type": "code",
   "execution_count": 244,
   "metadata": {},
   "outputs": [
    {
     "name": "stdout",
     "output_type": "stream",
     "text": [
      "SHAPE Y: (100,)\n",
      "SHAPE Y: (100, 1)\n"
     ]
    }
   ],
   "source": [
    "x=marks_df.iloc[:,:-1]\n",
    "y=marks_df.iloc[:,-1]\n",
    "x = np.c_[np.ones((x.shape[0], 1)), x]\n",
    "print(\"SHAPE Y:\",y.shape)\n",
    "# print(y)\n",
    "#Converting Series into Matrix\n",
    "y = y[:, np.newaxis]\n",
    "print(\"SHAPE Y:\",y.shape)\n",
    "# print(y)\n",
    "theta = np.zeros((x.shape[1], 1))"
   ]
  },
  {
   "cell_type": "markdown",
   "metadata": {},
   "source": [
    "###### METHODS"
   ]
  },
  {
   "cell_type": "code",
   "execution_count": 245,
   "metadata": {},
   "outputs": [],
   "source": [
    "#SIGMOID transforms Output to the Applicable Range\n",
    "def sigmoid(x):\n",
    "    return 1/(1+np.exp(-x))\n",
    "\n",
    "#MATRIX MULTIPLICATION \n",
    "#Return Matrix of m x 1\n",
    "def net_input(theta, x):\n",
    "    return np.dot(x, theta)\n",
    "\n",
    "#FINDS PROB.(By Passing Through Sigmoid Function) AFTER MULTIPLICATION \n",
    "def probability(theta, x):\n",
    "    return sigmoid(net_input(theta, x))\n",
    "\n",
    "#TOTAL COST\n",
    "def cost_function(theta,x,y):\n",
    "    m=x.shape[0]\n",
    "    total_cost=-(1/m)* np.sum(y * np.log(probability(theta,x)) + (1-y) * np.log(1-probability(theta,x)))\n",
    "    return total_cost\n",
    "\n",
    "#GRADIENT RETURN DERIVATIVE OF COST FUNCTION\n",
    "def gradient(theta,x,y):\n",
    "    m=x.shape[0]\n",
    "    return (1/m) * np.dot(x.T, sigmoid(net_input(theta,x))- y)\n",
    "\n",
    "def predict(x,parameters):\n",
    "    theta=parameters[:,np.newaxis]\n",
    "    return probability(theta,x)\n",
    "\n",
    "def accuracy(x,actual_class,paramters,threshold=0.5):\n",
    "    predicted_class=(predict(x,parameters)>=threshold)\n",
    "    predicted_class=(predicted_class).astype(int)\n",
    "    predicted_class=(predicted_class).flatten()\n",
    "    return (np.mean(predicted_class==actual_class))*100"
   ]
  },
  {
   "cell_type": "code",
   "execution_count": 246,
   "metadata": {},
   "outputs": [
    {
     "name": "stdout",
     "output_type": "stream",
     "text": [
      "(array([-19.2202795 ,   0.15736179,   0.15359046]), 34, 1)\n",
      "(3,)\n"
     ]
    }
   ],
   "source": [
    "from scipy.optimize import fmin_tnc\n",
    "def fit(x, y, theta):\n",
    "    opt_weights = fmin_tnc(func=cost_function, x0=theta,fprime=gradient,args=(x, y.flatten()))\n",
    "    print(opt_weights)\n",
    "    return opt_weights[0]\n",
    "parameters = fit(x, y, theta)\n",
    "print(parameters.shape)"
   ]
  },
  {
   "cell_type": "code",
   "execution_count": 247,
   "metadata": {},
   "outputs": [
    {
     "data": {
      "image/png": "[encoded data removed]",
      "text/plain": [
       "<Figure size 432x288 with 1 Axes>"
      ]
     },
     "metadata": {
      "needs_background": "light"
     },
     "output_type": "display_data"
    },
    {
     "name": "stdout",
     "output_type": "stream",
     "text": [
      "ACCURACY= 90.0 %\n",
      "PREDICT RESULT= [[ True]]\n"
     ]
    }
   ],
   "source": [
    "x1=np.min(x[:,1])\n",
    "x2=np.max(x[:,2])\n",
    "def y_finder(x,parameter):\n",
    "    return -((parameter[0]+parameter[1]*x)/parameter[2])\n",
    "y1=y_finder(x1,parameters)\n",
    "y2=y_finder(x2,parameters)\n",
    "plt.plot([x1,x2],[y1,y2],label=\"Decison Boundary\")\n",
    "plt.scatter(admitted.iloc[:,0],admitted.iloc[:,1],label='Admitted',color='green')\n",
    "plt.scatter(not_admitted.iloc[:,0],not_admitted.iloc[:,1],label='Not Admitted',color='red')\n",
    "plt.xlabel(\"MARKS 1\")\n",
    "plt.ylabel(\"MARKS 2\")\n",
    "plt.legend()\n",
    "plt.show()\n",
    "print(\"ACCURACY=\",accuracy(x,y.flatten(),parameters),'%')\n",
    "print(\"PREDICT RESULT=\",predict([[1,60,65]],parameters)>0.5)"
   ]
  },
  {
   "cell_type": "markdown",
   "metadata": {},
   "source": [
    "###### USING SCIKIT LEARN"
   ]
  },
  {
   "cell_type": "code",
   "execution_count": 268,
   "metadata": {},
   "outputs": [
    {
     "name": "stdout",
     "output_type": "stream",
     "text": [
      "(100, 1)\n",
      "Parameters= [[-2.76072022  0.04986011  0.04414039]]\n",
      "Accuracy= 91.0 %\n",
      "(1, 3)\n"
     ]
    },
    {
     "name": "stderr",
     "output_type": "stream",
     "text": [
      "C:\\ProgramData\\Anaconda3\\lib\\site-packages\\sklearn\\linear_model\\logistic.py:432: FutureWarning: Default solver will be changed to 'lbfgs' in 0.22. Specify a solver to silence this warning.\n",
      "  FutureWarning)\n"
     ]
    }
   ],
   "source": [
    "x=marks_df.iloc[:,:-1]\n",
    "y=marks_df.iloc[:,-1]\n",
    "x = np.c_[np.ones((x.shape[0], 1)), x]\n",
    "y=y[:,np.newaxis]\n",
    "print(y.shape)\n",
    "from sklearn.linear_model import LogisticRegression\n",
    "from sklearn.metrics import accuracy_score\n",
    "lr=LogisticRegression()\n",
    "lr.fit(x,y.flatten())\n",
    "predicted_class=lr.predict(x)\n",
    "accuracy=accuracy_score(y.flatten(),predicted_class)\n",
    "parameters=lr.coef_\n",
    "print(\"Parameters=\",parameters)\n",
    "print(\"Accuracy=\",accuracy*100,'%')\n",
    "# print(\"PREDICT CASE 1=\",lr.predict([[1,60,60]]).astype(bool))\n",
    "print(parameters.shape)"
   ]
  },
  {
   "cell_type": "code",
   "execution_count": 269,
   "metadata": {},
   "outputs": [
    {
     "data": {
      "text/plain": [
       "(array([-2.76072022]), array([[-2.76072022,  0.04986011,  0.04414039]]))"
      ]
     },
     "execution_count": 269,
     "metadata": {},
     "output_type": "execute_result"
    }
   ],
   "source": [
    "lr.intercept_,lr.coef_"
   ]
  },
  {
   "cell_type": "code",
   "execution_count": 266,
   "metadata": {},
   "outputs": [
    {
     "data": {
      "text/plain": [
       "array([[27, 13],\n",
       "       [ 0, 60]], dtype=int64)"
      ]
     },
     "execution_count": 266,
     "metadata": {},
     "output_type": "execute_result"
    }
   ],
   "source": [
    "from sklearn.metrics import confusion_matrix\n",
    "confusion_matrix(y,predicted_class)"
   ]
  },
  {
   "cell_type": "markdown",
   "metadata": {},
   "source": [
    "###### GRAPH"
   ]
  },
  {
   "cell_type": "code",
   "execution_count": 267,
   "metadata": {},
   "outputs": [
    {
     "name": "stdout",
     "output_type": "stream",
     "text": [
      "PARAMETERS= [-3.7923511542409267, 0.03679532833116775, 0.030688069088878583]\n"
     ]
    },
    {
     "data": {
      "image/png": "[encoded data removed]",
      "text/plain": [
       "<Figure size 432x288 with 1 Axes>"
      ]
     },
     "metadata": {
      "needs_background": "light"
     },
     "output_type": "display_data"
    },
    {
     "data": {
      "text/plain": [
       "(30.05882245, 87.53652454198985)"
      ]
     },
     "execution_count": 267,
     "metadata": {},
     "output_type": "execute_result"
    }
   ],
   "source": [
    "# parameters=parameters.flatten()\n",
    "parameters=[lr.intercept_[0],lr.coef_[0][0],lr.coef_[0][1]]\n",
    "print(\"PARAMETERS=\",parameters)\n",
    "x1=np.min(x.iloc[:,0])\n",
    "x2=np.max(x.iloc[:,1])\n",
    "def y_finder(x,parameter):\n",
    "    return -((parameter[0]+parameter[1]*x)/parameter[2])\n",
    "y1=y_finder(x1,parameters)\n",
    "y2=y_finder(x2,parameters)\n",
    "plt.plot([x1,x2],[y1,y2],label=\"Decison Boundary\")\n",
    "plt.scatter(admitted.iloc[:,0],admitted.iloc[:,1],label='Admitted',color='green')\n",
    "plt.scatter(not_admitted.iloc[:,0],not_admitted.iloc[:,1],label='Not Admitted',color='red')\n",
    "plt.xlabel(\"MARKS 1\")\n",
    "plt.ylabel(\"MARKS 2\")\n",
    "plt.legend()\n",
    "plt.show()\n",
    "x1,y1"
   ]
  },
  {
   "cell_type": "code",
   "execution_count": null,
   "metadata": {},
   "outputs": [],
   "source": []
  }
 ],
 "metadata": {
  "kernelspec": {
   "display_name": "Python 3",
   "language": "python",
   "name": "python3"
  },
  "language_info": {
   "codemirror_mode": {
    "name": "ipython",
    "version": 3
   },
   "file_extension": ".py",
   "mimetype": "text/x-python",
   "name": "python",
   "nbconvert_exporter": "python",
   "pygments_lexer": "ipython3",
   "version": "3.7.3"
  }
 },
 "nbformat": 4,
 "nbformat_minor": 2
}
